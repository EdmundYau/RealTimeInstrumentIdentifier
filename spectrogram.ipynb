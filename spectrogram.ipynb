{
 "cells": [
  {
   "cell_type": "code",
   "execution_count": 2,
   "metadata": {},
   "outputs": [],
   "source": [
    "# Import Libraries\n",
    "import os\n",
    "import numpy as np\n",
    "import cupy as cp\n",
    "import librosa\n",
    "import torch\n",
    "import torchaudio\n",
    "import concurrent.futures\n",
    "import matplotlib.pyplot as plt\n",
    "from tqdm import tqdm"
   ]
  },
  {
   "cell_type": "code",
   "execution_count": 3,
   "metadata": {},
   "outputs": [],
   "source": [
    "# Constants\n",
    "SAMPLE_RATE = 44100\n",
    "DURATION = 1.0\n",
    "N_MELS = 16\n",
    "HOP_LENGTH = 512\n",
    "N_FFT = 2048"
   ]
  },
  {
   "cell_type": "code",
   "execution_count": 4,
   "metadata": {},
   "outputs": [],
   "source": [
    "# =================== FOR EACH TRACK ===================\n",
    "# [GPU-Accelerated] Generate Mel Spectrogram with Normalization\n",
    "def generate_mel_spect_gpu(audio_path, save_path=None):\n",
    "    # Load audio\n",
    "    y, _ = librosa.load(audio_path, sr=SAMPLE_RATE)\n",
    "\n",
    "    # Normalize audio to [-1, 1]\n",
    "    y = y / np.max(np.abs(y)) if np.max(np.abs(y)) > 0 else y  \n",
    "\n",
    "    samples_per_segment = int(DURATION * SAMPLE_RATE)\n",
    "    mel_spects = []\n",
    "\n",
    "    # Compile spectrograms\n",
    "    for start in range(0, len(y), samples_per_segment):\n",
    "        # Get current segment\n",
    "        end = start + samples_per_segment\n",
    "        segment = y[start:end]\n",
    "        if len(segment) < samples_per_segment:\n",
    "            break\n",
    "\n",
    "        # Define transformation\n",
    "        tensor = torch.tensor(segment).to(\"cuda\")\n",
    "        apply_transform = torchaudio.transforms.MelSpectrogram(\n",
    "            sample_rate=SAMPLE_RATE,\n",
    "            n_mels=N_MELS,\n",
    "            n_fft=N_FFT,\n",
    "            hop_length=HOP_LENGTH,\n",
    "            center=False\n",
    "        ).to(\"cuda\")\n",
    "\n",
    "        # Apply transformation\n",
    "        mel_spect = apply_transform(tensor)\n",
    "        mel_spect_db = torchaudio.transforms.AmplitudeToDB().to(\"cuda\")(mel_spect)\n",
    "        mel_spects.append(mel_spect_db.cpu().numpy())\n",
    "\n",
    "    # Save to disk\n",
    "    if save_path:\n",
    "        np.save(save_path, np.array(mel_spects))\n",
    "\n",
    "    return mel_spects\n"
   ]
  },
  {
   "cell_type": "code",
   "execution_count": 6,
   "metadata": {},
   "outputs": [],
   "source": [
    "# =================== FOR EACH FOLDER ===================\n",
    "# [Parallel] Generate all Mel Spectrograms\n",
    "def process_dataset_parallel(dataset_path, save_dir):\n",
    "    track_folders = [os.path.join(dataset_path, d) for d in os.listdir(dataset_path) if d.startswith(\"Track\")]\n",
    "    os.makedirs(save_dir, exist_ok=True)\n",
    "\n",
    "    # Helper Function\n",
    "    def process_track(folder):\n",
    "        mix_path = os.path.join(folder, \"mix.flac\")\n",
    "        if os.path.exists(mix_path):\n",
    "            # Request spectrogram\n",
    "            track_name = os.path.basename(folder)\n",
    "            save_path = os.path.join(save_dir, f\"{track_name}_mel_spect.npy\")  \n",
    "            return generate_mel_spect_gpu(mix_path, save_path=save_path)\n",
    "        return []\n",
    "\n",
    "    # Parallel processing for requests\n",
    "    with concurrent.futures.ThreadPoolExecutor(max_workers=4) as executor:\n",
    "        results = list(tqdm(executor.map(process_track, track_folders), desc=\"Processing Tracks\"))\n",
    "    \n",
    "    return results"
   ]
  },
  {
   "cell_type": "code",
   "execution_count": null,
   "metadata": {},
   "outputs": [
    {
     "name": "stderr",
     "output_type": "stream",
     "text": [
      "Processing Tracks: 100%|██████████| 1289/1289 [06:11<00:00,  3.47it/s]\n"
     ]
    }
   ],
   "source": [
    "# Collect Spectrograms (Train)\n",
    "dataset_path = \"slakh2100_flac_redux/train\"\n",
    "save_dir = \"spectrograms_train\"  \n",
    "mel_spectrograms = process_dataset_parallel(dataset_path, save_dir)"
   ]
  },
  {
   "cell_type": "code",
   "execution_count": null,
   "metadata": {},
   "outputs": [
    {
     "name": "stderr",
     "output_type": "stream",
     "text": [
      "Processing Tracks: 100%|██████████| 270/270 [01:14<00:00,  3.60it/s]\n"
     ]
    }
   ],
   "source": [
    "# Collect Spectrograms (Validation)\n",
    "dataset_path = \"slakh2100_flac_redux/validation\"\n",
    "save_dir = \"spectrograms_validation\"  \n",
    "mel_spectrograms = process_dataset_parallel(dataset_path, save_dir)"
   ]
  },
  {
   "cell_type": "code",
   "execution_count": 52,
   "metadata": {},
   "outputs": [
    {
     "name": "stderr",
     "output_type": "stream",
     "text": [
      "Processing Tracks: 100%|██████████| 151/151 [00:43<00:00,  3.45it/s]\n"
     ]
    }
   ],
   "source": [
    "# Collect Spectrograms (Test)\n",
    "dataset_path = \"slakh2100_flac_redux/test\"\n",
    "save_dir = \"spectrograms_test\"  \n",
    "mel_spectrograms = process_dataset_parallel(dataset_path, save_dir)"
   ]
  },
  {
   "cell_type": "code",
   "execution_count": 29,
   "metadata": {},
   "outputs": [
    {
     "name": "stderr",
     "output_type": "stream",
     "text": [
      "Processing Tracks: 270it [01:29,  3.00it/s]\n"
     ]
    }
   ],
   "source": [
    "# Collect Spectrograms (Reduced)\n",
    "dataset_path = \"slakh2100_flac_redux/reduced\"\n",
    "save_dir = \"spectrograms_reduced\"  \n",
    "mel_spectrograms = process_dataset_parallel(dataset_path, save_dir)"
   ]
  },
  {
   "cell_type": "code",
   "execution_count": 39,
   "metadata": {},
   "outputs": [
    {
     "name": "stderr",
     "output_type": "stream",
     "text": [
      "Processing Tracks: 151it [00:54,  2.79it/s]\n"
     ]
    }
   ],
   "source": [
    "# Collect Spectrograms (Reduced)\n",
    "dataset_path = \"slakh2100_flac_redux/reduced_test\"\n",
    "save_dir = \"spectrograms_reduced_test\"  \n",
    "mel_spectrograms = process_dataset_parallel(dataset_path, save_dir)"
   ]
  },
  {
   "cell_type": "code",
   "execution_count": 5,
   "metadata": {},
   "outputs": [
    {
     "name": "stderr",
     "output_type": "stream",
     "text": [
      "Processing Tracks: 1289it [07:24,  2.90it/s]\n"
     ]
    }
   ],
   "source": [
    "# Collect Spectrograms (Reduced)\n",
    "dataset_path = \"slakh2100_flac_redux/reduced_train\"\n",
    "save_dir = \"spectrograms_reduced_train\"  \n",
    "mel_spectrograms = process_dataset_parallel(dataset_path, save_dir)"
   ]
  },
  {
   "cell_type": "code",
   "execution_count": null,
   "metadata": {},
   "outputs": [
    {
     "name": "stderr",
     "output_type": "stream",
     "text": [
      "Processing Tracks: 270it [01:27,  3.09it/s]\n",
      "Processing Tracks: 151it [00:48,  3.08it/s]\n",
      "Processing Tracks: 1289it [06:41,  3.21it/s]\n"
     ]
    }
   ],
   "source": [
    "# REDUCED BINS================================== 64\n",
    "# Collect Spectrograms (Reduced)\n",
    "dataset_path = \"slakh2100_flac_redux/reduced\"\n",
    "save_dir = \"spectrograms_sixtyfour\"  \n",
    "mel_spectrograms = process_dataset_parallel(dataset_path, save_dir)\n",
    "\n",
    "# Collect Spectrograms (Reduced)\n",
    "dataset_path = \"slakh2100_flac_redux/reduced_test\"\n",
    "save_dir = \"spectrograms_sixtyfour_test\"  \n",
    "mel_spectrograms = process_dataset_parallel(dataset_path, save_dir)\n",
    "\n",
    "# Collect Spectrograms (Reduced)\n",
    "dataset_path = \"slakh2100_flac_redux/reduced_train\"\n",
    "save_dir = \"spectrograms_sixtyfour_train\"  \n",
    "mel_spectrograms = process_dataset_parallel(dataset_path, save_dir)"
   ]
  },
  {
   "cell_type": "code",
   "execution_count": null,
   "metadata": {},
   "outputs": [
    {
     "name": "stderr",
     "output_type": "stream",
     "text": [
      "Processing Tracks: 270it [01:28,  3.04it/s]\n",
      "Processing Tracks: 151it [00:51,  2.96it/s]\n",
      "Processing Tracks: 1289it [06:39,  3.22it/s]\n"
     ]
    }
   ],
   "source": [
    "# REDUCED BINS================================== 32\n",
    "# Collect Spectrograms (Reduced)\n",
    "dataset_path = \"slakh2100_flac_redux/reduced\"\n",
    "save_dir = \"spectrograms_thirtytwo\"  \n",
    "mel_spectrograms = process_dataset_parallel(dataset_path, save_dir)\n",
    "\n",
    "# Collect Spectrograms (Reduced)\n",
    "dataset_path = \"slakh2100_flac_redux/reduced_test\"\n",
    "save_dir = \"spectrograms_thirtytwo_test\"  \n",
    "mel_spectrograms = process_dataset_parallel(dataset_path, save_dir)\n",
    "\n",
    "# Collect Spectrograms (Reduced)\n",
    "dataset_path = \"slakh2100_flac_redux/reduced_train\"\n",
    "save_dir = \"spectrograms_thirtytwo_train\"  \n",
    "mel_spectrograms = process_dataset_parallel(dataset_path, save_dir)"
   ]
  },
  {
   "cell_type": "code",
   "execution_count": 7,
   "metadata": {},
   "outputs": [
    {
     "name": "stderr",
     "output_type": "stream",
     "text": [
      "Processing Tracks: 270it [01:22,  3.27it/s]\n",
      "Processing Tracks: 151it [00:44,  3.36it/s]\n",
      "Processing Tracks: 1289it [06:08,  3.50it/s]\n"
     ]
    }
   ],
   "source": [
    "# REDUCED BINS================================== 16\n",
    "# Collect Spectrograms (Reduced)\n",
    "dataset_path = \"slakh2100_flac_redux/reduced\"\n",
    "save_dir = \"spectrograms_sixteen\"  \n",
    "mel_spectrograms = process_dataset_parallel(dataset_path, save_dir)\n",
    "\n",
    "# Collect Spectrograms (Reduced)\n",
    "dataset_path = \"slakh2100_flac_redux/reduced_test\"\n",
    "save_dir = \"spectrograms_sixteen_test\"  \n",
    "mel_spectrograms = process_dataset_parallel(dataset_path, save_dir)\n",
    "\n",
    "# Collect Spectrograms (Reduced)\n",
    "dataset_path = \"slakh2100_flac_redux/reduced_train\"\n",
    "save_dir = \"spectrograms_sixteen_train\"  \n",
    "mel_spectrograms = process_dataset_parallel(dataset_path, save_dir)"
   ]
  },
  {
   "cell_type": "code",
   "execution_count": 5,
   "metadata": {},
   "outputs": [
    {
     "name": "stdout",
     "output_type": "stream",
     "text": [
      "(16, 83)\n"
     ]
    },
    {
     "data": {
      "image/png": "[encoded data removed]",
      "text/plain": [
       "<Figure size 800x500 with 2 Axes>"
      ]
     },
     "metadata": {},
     "output_type": "display_data"
    }
   ],
   "source": [
    "# Plotting Example\n",
    "spectrogram = np.load('spectrograms_sixteen_test/Track01876_mel_spect.npy')\n",
    "print(spectrogram[0].shape)\n",
    "plt.figure(figsize=(8, 5))\n",
    "plt.imshow(spectrogram[6], aspect='auto', cmap='inferno')  \n",
    "plt.colorbar(format='%+2.0f dB')\n",
    "plt.title(\"Mel Spectrogram\")\n",
    "plt.xlabel(\"Time Frames\")\n",
    "plt.ylabel(\"Frequency Bins\")\n",
    "plt.show()"
   ]
  },
  {
   "cell_type": "code",
   "execution_count": 6,
   "metadata": {},
   "outputs": [
    {
     "name": "stdout",
     "output_type": "stream",
     "text": [
      "1st column Amplitude:\n",
      " [ 3.8660302  29.73983    18.389109   38.38227    40.06209    14.774754\n",
      " 13.597471    6.041364    4.678671    2.9946234   3.0150743   1.9735754\n",
      "  1.0844488   0.59227264  0.3359872   0.25715885]\n",
      "1st column in dB:\n",
      " [ 11.745305   29.46677    25.291214   31.682613   32.054672   23.390406\n",
      "  22.669163   15.622701   13.402451    9.526844    9.58596     5.9050746\n",
      "   0.7041815  -4.5495663  -9.473545  -11.79597  ]\n"
     ]
    }
   ],
   "source": [
    "amplitude_spectrogram = 10**(spectrogram[6] / 20)\n",
    "# Print amplitude values for the first and second columns\n",
    "print(\"1st column Amplitude:\\n\", amplitude_spectrogram[:, 0])\n",
    "print(\"1st column in dB:\\n\", spectrogram[6][:, 0])"
   ]
  }
 ],
 "metadata": {
  "kernelspec": {
   "display_name": "Python 3",
   "language": "python",
   "name": "python3"
  },
  "language_info": {
   "codemirror_mode": {
    "name": "ipython",
    "version": 3
   },
   "file_extension": ".py",
   "mimetype": "text/x-python",
   "name": "python",
   "nbconvert_exporter": "python",
   "pygments_lexer": "ipython3",
   "version": "3.10.6"
  }
 },
 "nbformat": 4,
 "nbformat_minor": 2
}
