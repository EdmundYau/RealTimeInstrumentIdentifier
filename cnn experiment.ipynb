{
 "cells": [
  {
   "cell_type": "code",
   "execution_count": 1,
   "metadata": {},
   "outputs": [
    {
     "name": "stderr",
     "output_type": "stream",
     "text": [
      "2025-02-09 00:55:51.642127: E external/local_xla/xla/stream_executor/cuda/cuda_fft.cc:477] Unable to register cuFFT factory: Attempting to register factory for plugin cuFFT when one has already been registered\n",
      "WARNING: All log messages before absl::InitializeLog() is called are written to STDERR\n",
      "E0000 00:00:1739091351.724801     607 cuda_dnn.cc:8310] Unable to register cuDNN factory: Attempting to register factory for plugin cuDNN when one has already been registered\n",
      "E0000 00:00:1739091351.748392     607 cuda_blas.cc:1418] Unable to register cuBLAS factory: Attempting to register factory for plugin cuBLAS when one has already been registered\n",
      "2025-02-09 00:55:51.950393: I tensorflow/core/platform/cpu_feature_guard.cc:210] This TensorFlow binary is optimized to use available CPU instructions in performance-critical operations.\n",
      "To enable the following instructions: AVX2 FMA, in other operations, rebuild TensorFlow with the appropriate compiler flags.\n"
     ]
    },
    {
     "name": "stdout",
     "output_type": "stream",
     "text": [
      "Num GPUs Available: 1\n",
      "TensorFlow is using: /device:GPU:0\n",
      "GPU memory growth enabled.\n"
     ]
    },
    {
     "name": "stderr",
     "output_type": "stream",
     "text": [
      "I0000 00:00:1739091355.578297     607 gpu_device.cc:2022] Created device /device:GPU:0 with 5564 MB memory:  -> device: 0, name: NVIDIA GeForce RTX 3070, pci bus id: 0000:06:00.0, compute capability: 8.6\n"
     ]
    }
   ],
   "source": [
    "# Import libraries\n",
    "import os\n",
    "import numpy as np\n",
    "import tensorflow as tf\n",
    "from tensorflow.keras.models import Sequential\n",
    "from tensorflow.keras.layers import Conv2D, MaxPooling2D, Flatten, Dense, Dropout, Input, BatchNormalization, Add\n",
    "from tqdm import tqdm\n",
    "print(\"Num GPUs Available:\", len(tf.config.list_physical_devices('GPU')))\n",
    "print(\"TensorFlow is using:\", tf.test.gpu_device_name())\n",
    "gpus = tf.config.experimental.list_physical_devices('GPU')\n",
    "if gpus:\n",
    "    try:\n",
    "        for gpu in gpus:\n",
    "            tf.config.experimental.set_memory_growth(gpu, True)\n",
    "        print(\"GPU memory growth enabled.\")\n",
    "    except RuntimeError as e:\n",
    "        print(e)"
   ]
  },
  {
   "cell_type": "code",
   "execution_count": 2,
   "metadata": {},
   "outputs": [],
   "source": [
    "# Data Preparation\n",
    "def load_data(spectrogram_dir, label_dir, quarter='full'):\n",
    "    spectrograms = []\n",
    "    labels = []\n",
    "\n",
    "    # Load spectrograms\n",
    "    spectrogram_files = sorted(os.listdir(spectrogram_dir))\n",
    "    label_files = sorted(os.listdir(label_dir))\n",
    "\n",
    "    total_files = len(spectrogram_files)\n",
    "    quarter_idx = total_files // 4\n",
    "    \n",
    "    if quarter == 'first':\n",
    "        spectrogram_files = spectrogram_files[:quarter_idx]\n",
    "        label_files = label_files[:quarter_idx]\n",
    "    elif quarter == 'second':\n",
    "        spectrogram_files = spectrogram_files[quarter_idx:2*quarter_idx]\n",
    "        label_files = label_files[quarter_idx:2*quarter_idx]\n",
    "    elif quarter == 'third':\n",
    "        spectrogram_files = spectrogram_files[2*quarter_idx:3*quarter_idx]\n",
    "        label_files = label_files[2*quarter_idx:3*quarter_idx]\n",
    "    elif quarter == 'fourth':\n",
    "        spectrogram_files = spectrogram_files[3*quarter_idx:]\n",
    "        label_files = label_files[3*quarter_idx:]\n",
    "    \n",
    "    for spec_file, label_file in tqdm(zip(spectrogram_files, label_files),\n",
    "                                      total=len(spectrogram_files),\n",
    "                                      desc=f\"Loading {quarter} data\",\n",
    "                                      unit=\"file\"):\n",
    "        spectrogram = np.load(os.path.join(spectrogram_dir, spec_file))  \n",
    "        label = np.load(os.path.join(label_dir, label_file)).T \n",
    "\n",
    "        # Pad or trim labels\n",
    "        T_spec = spectrogram.shape[0]  \n",
    "        T_label = label.shape[0]      \n",
    "        if T_label < T_spec:\n",
    "            diff = T_spec - T_label\n",
    "            label = np.pad(label, ((0, diff), (0, 0)), mode='constant')\n",
    "        elif T_label > T_spec:\n",
    "            label = label[:T_spec]\n",
    "\n",
    "        spectrograms.append(spectrogram)\n",
    "        labels.append(label)\n",
    "\n",
    "    # Convert to numpy arrays\n",
    "    X = np.vstack(spectrograms)  \n",
    "    Y = np.vstack(labels)     \n",
    "\n",
    "    return X, Y\n"
   ]
  },
  {
   "cell_type": "code",
   "execution_count": null,
   "metadata": {},
   "outputs": [
    {
     "name": "stderr",
     "output_type": "stream",
     "text": [
      "I0000 00:00:1739091364.226818     607 gpu_device.cc:2022] Created device /job:localhost/replica:0/task:0/device:GPU:0 with 5564 MB memory:  -> device: 0, name: NVIDIA GeForce RTX 3070, pci bus id: 0000:06:00.0, compute capability: 8.6\n"
     ]
    }
   ],
   "source": [
    "# Define CNN model\n",
    "model = Sequential([\n",
    "    Input(shape=(128, 87, 1)),  \n",
    "    Conv2D(32, (3, 3), activation='relu', padding='same'),\n",
    "    BatchNormalization(),\n",
    "    MaxPooling2D((2, 2)),\n",
    "    \n",
    "    Conv2D(64, (3, 3), activation='relu', padding='same'),  \n",
    "    BatchNormalization(),\n",
    "    MaxPooling2D((2, 2)),\n",
    "    \n",
    "    Conv2D(128, (3, 3), activation='relu', padding='same'),\n",
    "    BatchNormalization(),\n",
    "    MaxPooling2D((2, 2)),\n",
    "    \n",
    "    Conv2D(256, (3, 3), activation='relu', padding='same'),\n",
    "    BatchNormalization(),\n",
    "    MaxPooling2D((2, 2)),\n",
    "    \n",
    "    Flatten(),\n",
    "    Dense(512, activation='relu'),\n",
    "    Dropout(0.3),\n",
    "    Dense(256, activation='relu'),\n",
    "    Dropout(0.3),\n",
    "    Dense(129, activation='sigmoid') \n",
    "])\n",
    "\n",
    "# Compile the model with binary cross-entropy loss and binary accuracy as the metric\n",
    "model.compile(optimizer='adam', loss='binary_crossentropy', metrics=['binary_accuracy'])"
   ]
  },
  {
   "cell_type": "code",
   "execution_count": 4,
   "metadata": {},
   "outputs": [],
   "source": [
    "# Track history\n",
    "history_all = {'loss': [], 'binary_accuracy': []}"
   ]
  },
  {
   "cell_type": "code",
   "execution_count": null,
   "metadata": {},
   "outputs": [
    {
     "name": "stderr",
     "output_type": "stream",
     "text": [
      "Loading first data: 100%|██████████| 322/322 [00:03<00:00, 97.08file/s] \n"
     ]
    },
    {
     "name": "stdout",
     "output_type": "stream",
     "text": [
      "Training on first quarter: (79341, 128, 87, 1) (79341, 129)\n"
     ]
    },
    {
     "name": "stderr",
     "output_type": "stream",
     "text": [
      "2025-02-09 00:56:20.185451: W external/local_xla/xla/tsl/framework/cpu_allocator_impl.cc:83] Allocation of 3534165504 exceeds 10% of free system memory.\n",
      "2025-02-09 00:56:22.019931: W external/local_xla/xla/tsl/framework/cpu_allocator_impl.cc:83] Allocation of 3534165504 exceeds 10% of free system memory.\n"
     ]
    },
    {
     "name": "stdout",
     "output_type": "stream",
     "text": [
      "Epoch 1/10\n"
     ]
    },
    {
     "name": "stderr",
     "output_type": "stream",
     "text": [
      "WARNING: All log messages before absl::InitializeLog() is called are written to STDERR\n",
      "I0000 00:00:1739091384.008892     939 service.cc:148] XLA service 0x7fc3e800eab0 initialized for platform CUDA (this does not guarantee that XLA will be used). Devices:\n",
      "I0000 00:00:1739091384.010750     939 service.cc:156]   StreamExecutor device (0): NVIDIA GeForce RTX 3070, Compute Capability 8.6\n",
      "2025-02-09 00:56:24.300192: I tensorflow/compiler/mlir/tensorflow/utils/dump_mlir_util.cc:268] disabling MLIR crash reproducer, set env var `MLIR_CRASH_REPRODUCER_DIRECTORY` to enable.\n",
      "I0000 00:00:1739091384.513290     939 cuda_dnn.cc:529] Loaded cuDNN version 90300\n"
     ]
    },
    {
     "name": "stdout",
     "output_type": "stream",
     "text": [
      "\u001b[1m   7/1240\u001b[0m \u001b[37m━━━━━━━━━━━━━━━━━━━━\u001b[0m \u001b[1m29s\u001b[0m 24ms/step - binary_accuracy: 0.5949 - loss: 0.8547 "
     ]
    },
    {
     "name": "stderr",
     "output_type": "stream",
     "text": [
      "I0000 00:00:1739091389.508299     939 device_compiler.h:188] Compiled cluster using XLA!  This line is logged at most once for the lifetime of the process.\n"
     ]
    },
    {
     "name": "stdout",
     "output_type": "stream",
     "text": [
      "\u001b[1m1240/1240\u001b[0m \u001b[32m━━━━━━━━━━━━━━━━━━━━\u001b[0m\u001b[37m\u001b[0m \u001b[1m41s\u001b[0m 28ms/step - binary_accuracy: 0.9481 - loss: 0.1491\n",
      "Epoch 2/10\n",
      "\u001b[1m1240/1240\u001b[0m \u001b[32m━━━━━━━━━━━━━━━━━━━━\u001b[0m\u001b[37m\u001b[0m \u001b[1m31s\u001b[0m 25ms/step - binary_accuracy: 0.9654 - loss: 0.0994\n",
      "Epoch 3/10\n",
      "\u001b[1m1240/1240\u001b[0m \u001b[32m━━━━━━━━━━━━━━━━━━━━\u001b[0m\u001b[37m\u001b[0m \u001b[1m31s\u001b[0m 25ms/step - binary_accuracy: 0.9690 - loss: 0.0861\n",
      "Epoch 4/10\n",
      "\u001b[1m1240/1240\u001b[0m \u001b[32m━━━━━━━━━━━━━━━━━━━━\u001b[0m\u001b[37m\u001b[0m \u001b[1m30s\u001b[0m 24ms/step - binary_accuracy: 0.9721 - loss: 0.0762\n",
      "Epoch 5/10\n",
      "\u001b[1m1240/1240\u001b[0m \u001b[32m━━━━━━━━━━━━━━━━━━━━\u001b[0m\u001b[37m\u001b[0m \u001b[1m30s\u001b[0m 25ms/step - binary_accuracy: 0.9748 - loss: 0.0683\n",
      "Epoch 6/10\n",
      "\u001b[1m1240/1240\u001b[0m \u001b[32m━━━━━━━━━━━━━━━━━━━━\u001b[0m\u001b[37m\u001b[0m \u001b[1m28s\u001b[0m 23ms/step - binary_accuracy: 0.9765 - loss: 0.0633\n",
      "Epoch 7/10\n",
      "\u001b[1m1240/1240\u001b[0m \u001b[32m━━━━━━━━━━━━━━━━━━━━\u001b[0m\u001b[37m\u001b[0m \u001b[1m30s\u001b[0m 25ms/step - binary_accuracy: 0.9781 - loss: 0.0589\n",
      "Epoch 8/10\n",
      "\u001b[1m1240/1240\u001b[0m \u001b[32m━━━━━━━━━━━━━━━━━━━━\u001b[0m\u001b[37m\u001b[0m \u001b[1m31s\u001b[0m 25ms/step - binary_accuracy: 0.9792 - loss: 0.0559\n",
      "Epoch 9/10\n",
      "\u001b[1m1240/1240\u001b[0m \u001b[32m━━━━━━━━━━━━━━━━━━━━\u001b[0m\u001b[37m\u001b[0m \u001b[1m30s\u001b[0m 25ms/step - binary_accuracy: 0.9801 - loss: 0.0533\n",
      "Epoch 10/10\n",
      "\u001b[1m1240/1240\u001b[0m \u001b[32m━━━━━━━━━━━━━━━━━━━━\u001b[0m\u001b[37m\u001b[0m \u001b[1m31s\u001b[0m 25ms/step - binary_accuracy: 0.9809 - loss: 0.0511\n"
     ]
    }
   ],
   "source": [
    "# Train on first quarter\n",
    "X_train, Y_train = load_data(\"spectrograms_train\", \"labels_train\", quarter='first')\n",
    "X_train = np.expand_dims(X_train, axis=-1)\n",
    "print(\"Training on first quarter:\", X_train.shape, Y_train.shape)\n",
    "history = model.fit(X_train, Y_train, batch_size=64, epochs=5, verbose=1)\n",
    "\n",
    "# Save history\n",
    "history_all['loss'].extend(history.history['loss'])\n",
    "history_all['binary_accuracy'].extend(history.history['binary_accuracy'])"
   ]
  },
  {
   "cell_type": "code",
   "execution_count": null,
   "metadata": {},
   "outputs": [
    {
     "name": "stderr",
     "output_type": "stream",
     "text": [
      "Loading second data: 100%|██████████| 322/322 [00:03<00:00, 88.91file/s]\n"
     ]
    },
    {
     "name": "stdout",
     "output_type": "stream",
     "text": [
      "Training on second quarter: (80558, 128, 87, 1) (80558, 129)\n"
     ]
    },
    {
     "name": "stderr",
     "output_type": "stream",
     "text": [
      "2025-02-09 01:02:23.328424: W external/local_xla/xla/tsl/framework/cpu_allocator_impl.cc:83] Allocation of 3588375552 exceeds 10% of free system memory.\n",
      "2025-02-09 01:02:25.161156: W external/local_xla/xla/tsl/framework/cpu_allocator_impl.cc:83] Allocation of 3588375552 exceeds 10% of free system memory.\n"
     ]
    },
    {
     "name": "stdout",
     "output_type": "stream",
     "text": [
      "Epoch 1/10\n",
      "\u001b[1m1259/1259\u001b[0m \u001b[32m━━━━━━━━━━━━━━━━━━━━\u001b[0m\u001b[37m\u001b[0m \u001b[1m37s\u001b[0m 29ms/step - binary_accuracy: 0.9654 - loss: 0.1025\n",
      "Epoch 2/10\n",
      "\u001b[1m1259/1259\u001b[0m \u001b[32m━━━━━━━━━━━━━━━━━━━━\u001b[0m\u001b[37m\u001b[0m \u001b[1m29s\u001b[0m 23ms/step - binary_accuracy: 0.9711 - loss: 0.0806\n",
      "Epoch 3/10\n",
      "\u001b[1m1259/1259\u001b[0m \u001b[32m━━━━━━━━━━━━━━━━━━━━\u001b[0m\u001b[37m\u001b[0m \u001b[1m31s\u001b[0m 24ms/step - binary_accuracy: 0.9748 - loss: 0.0692\n",
      "Epoch 4/10\n",
      "\u001b[1m1259/1259\u001b[0m \u001b[32m━━━━━━━━━━━━━━━━━━━━\u001b[0m\u001b[37m\u001b[0m \u001b[1m31s\u001b[0m 24ms/step - binary_accuracy: 0.9774 - loss: 0.0618\n",
      "Epoch 5/10\n",
      "\u001b[1m1259/1259\u001b[0m \u001b[32m━━━━━━━━━━━━━━━━━━━━\u001b[0m\u001b[37m\u001b[0m \u001b[1m31s\u001b[0m 24ms/step - binary_accuracy: 0.9790 - loss: 0.0571\n",
      "Epoch 6/10\n",
      "\u001b[1m1259/1259\u001b[0m \u001b[32m━━━━━━━━━━━━━━━━━━━━\u001b[0m\u001b[37m\u001b[0m \u001b[1m31s\u001b[0m 24ms/step - binary_accuracy: 0.9801 - loss: 0.0541\n",
      "Epoch 7/10\n",
      "\u001b[1m1259/1259\u001b[0m \u001b[32m━━━━━━━━━━━━━━━━━━━━\u001b[0m\u001b[37m\u001b[0m \u001b[1m31s\u001b[0m 24ms/step - binary_accuracy: 0.9809 - loss: 0.0515\n",
      "Epoch 8/10\n",
      "\u001b[1m1259/1259\u001b[0m \u001b[32m━━━━━━━━━━━━━━━━━━━━\u001b[0m\u001b[37m\u001b[0m \u001b[1m31s\u001b[0m 24ms/step - binary_accuracy: 0.9817 - loss: 0.0494\n",
      "Epoch 9/10\n",
      "\u001b[1m1259/1259\u001b[0m \u001b[32m━━━━━━━━━━━━━━━━━━━━\u001b[0m\u001b[37m\u001b[0m \u001b[1m31s\u001b[0m 24ms/step - binary_accuracy: 0.9824 - loss: 0.0475\n",
      "Epoch 10/10\n",
      "\u001b[1m1259/1259\u001b[0m \u001b[32m━━━━━━━━━━━━━━━━━━━━\u001b[0m\u001b[37m\u001b[0m \u001b[1m31s\u001b[0m 25ms/step - binary_accuracy: 0.9828 - loss: 0.0462\n"
     ]
    }
   ],
   "source": [
    "# Train on second quarter\n",
    "X_train, Y_train = load_data(\"spectrograms_train\", \"labels_train\", quarter='second')\n",
    "X_train = np.expand_dims(X_train, axis=-1)\n",
    "print(\"Training on second quarter:\", X_train.shape, Y_train.shape)\n",
    "history = model.fit(X_train, Y_train, batch_size=64, epochs=5, verbose=1)\n",
    "\n",
    "# Save history\n",
    "history_all['loss'].extend(history.history['loss'])\n",
    "history_all['binary_accuracy'].extend(history.history['binary_accuracy'])"
   ]
  },
  {
   "cell_type": "code",
   "execution_count": 7,
   "metadata": {},
   "outputs": [
    {
     "name": "stderr",
     "output_type": "stream",
     "text": [
      "Loading third data: 100%|██████████| 322/322 [00:03<00:00, 90.08file/s]\n"
     ]
    },
    {
     "name": "stdout",
     "output_type": "stream",
     "text": [
      "Training on third quarter: (81353, 128, 87, 1) (81353, 129)\n"
     ]
    },
    {
     "name": "stderr",
     "output_type": "stream",
     "text": [
      "2025-02-09 01:08:19.291847: W external/local_xla/xla/tsl/framework/cpu_allocator_impl.cc:83] Allocation of 3623788032 exceeds 10% of free system memory.\n"
     ]
    },
    {
     "name": "stdout",
     "output_type": "stream",
     "text": [
      "Epoch 1/5\n",
      "\u001b[1m1272/1272\u001b[0m \u001b[32m━━━━━━━━━━━━━━━━━━━━\u001b[0m\u001b[37m\u001b[0m \u001b[1m34s\u001b[0m 27ms/step - binary_accuracy: 0.9653 - loss: 0.1040\n",
      "Epoch 2/5\n",
      "\u001b[1m1272/1272\u001b[0m \u001b[32m━━━━━━━━━━━━━━━━━━━━\u001b[0m\u001b[37m\u001b[0m \u001b[1m31s\u001b[0m 24ms/step - binary_accuracy: 0.9701 - loss: 0.0837\n",
      "Epoch 3/5\n",
      "\u001b[1m1272/1272\u001b[0m \u001b[32m━━━━━━━━━━━━━━━━━━━━\u001b[0m\u001b[37m\u001b[0m \u001b[1m31s\u001b[0m 24ms/step - binary_accuracy: 0.9738 - loss: 0.0722\n",
      "Epoch 4/5\n",
      "\u001b[1m1272/1272\u001b[0m \u001b[32m━━━━━━━━━━━━━━━━━━━━\u001b[0m\u001b[37m\u001b[0m \u001b[1m31s\u001b[0m 24ms/step - binary_accuracy: 0.9764 - loss: 0.0642\n",
      "Epoch 5/5\n",
      "\u001b[1m1272/1272\u001b[0m \u001b[32m━━━━━━━━━━━━━━━━━━━━\u001b[0m\u001b[37m\u001b[0m \u001b[1m31s\u001b[0m 25ms/step - binary_accuracy: 0.9781 - loss: 0.0593\n"
     ]
    }
   ],
   "source": [
    "# Train on third quarter\n",
    "X_train, Y_train = load_data(\"spectrograms_train\", \"labels_train\", quarter='third')\n",
    "X_train = np.expand_dims(X_train, axis=-1)\n",
    "print(\"Training on third quarter:\", X_train.shape, Y_train.shape)\n",
    "history = model.fit(X_train, Y_train, batch_size=64, epochs=5, verbose=1)\n",
    "\n",
    "# Save history\n",
    "history_all['loss'].extend(history.history['loss'])\n",
    "history_all['binary_accuracy'].extend(history.history['binary_accuracy'])"
   ]
  },
  {
   "cell_type": "code",
   "execution_count": null,
   "metadata": {},
   "outputs": [],
   "source": [
    "# Train on fourth quarter\n",
    "X_train, Y_train = load_data(\"spectrograms_train\", \"labels_train\", quarter='fourth')\n",
    "X_train = np.expand_dims(X_train, axis=-1)\n",
    "print(\"Training on fourth quarter:\", X_train.shape, Y_train.shape)\n",
    "history = model.fit(X_train, Y_train, batch_size=64, epochs=5, verbose=1)\n",
    "\n",
    "# Save history\n",
    "history_all['loss'].extend(history.history['loss'])\n",
    "history_all['binary_accuracy'].extend(history.history['binary_accuracy'])"
   ]
  },
  {
   "cell_type": "code",
   "execution_count": 8,
   "metadata": {},
   "outputs": [
    {
     "name": "stdout",
     "output_type": "stream",
     "text": [
      "Final Loss: 0.0586, Final Accuracy: 0.9783\n"
     ]
    }
   ],
   "source": [
    "# Final loss & accuracy\n",
    "final_loss = history_all['loss'][-1]\n",
    "final_accuracy = history_all['binary_accuracy'][-1]\n",
    "print(f\"Final Loss: {final_loss:.4f}, Final Accuracy: {final_accuracy:.4f}\")"
   ]
  },
  {
   "cell_type": "code",
   "execution_count": 7,
   "metadata": {},
   "outputs": [
    {
     "name": "stderr",
     "output_type": "stream",
     "text": [
      "2025-02-08 21:29:46.336094: W external/local_xla/xla/tsl/framework/cpu_allocator_impl.cc:83] Allocation of 2935984128 exceeds 10% of free system memory.\n",
      "2025-02-08 21:29:47.709445: W external/local_xla/xla/tsl/framework/cpu_allocator_impl.cc:83] Allocation of 2935984128 exceeds 10% of free system memory.\n"
     ]
    },
    {
     "name": "stdout",
     "output_type": "stream",
     "text": [
      "\u001b[1m2050/2060\u001b[0m \u001b[32m━━━━━━━━━━━━━━━━━━━\u001b[0m\u001b[37m━\u001b[0m \u001b[1m0s\u001b[0m 5ms/step"
     ]
    },
    {
     "name": "stderr",
     "output_type": "stream",
     "text": [
      "2025-02-08 21:30:02.503034: I external/local_xla/xla/stream_executor/cuda/cuda_asm_compiler.cc:397] ptxas warning : Registers are spilled to local memory in function 'gemm_fusion_dot_88_0', 4 bytes spill stores, 4 bytes spill loads\n",
      "\n"
     ]
    },
    {
     "name": "stdout",
     "output_type": "stream",
     "text": [
      "\u001b[1m2060/2060\u001b[0m \u001b[32m━━━━━━━━━━━━━━━━━━━━\u001b[0m\u001b[37m\u001b[0m \u001b[1m15s\u001b[0m 6ms/step\n",
      "Precision: 0.8699\n",
      "Recall: 0.7699\n",
      "F1-Score: 0.7996\n"
     ]
    }
   ],
   "source": [
    "# Get predictions\n",
    "Y_pred = model.predict(X_train)\n",
    "\n",
    "# Convert to binary (threshold the probabilities)\n",
    "threshold = 0.5\n",
    "Y_pred_binary = (Y_pred > threshold).astype(int)\n",
    "\n",
    "# Calculate metrics\n",
    "from sklearn.metrics import precision_score, recall_score, f1_score\n",
    "\n",
    "precision = precision_score(Y_train, Y_pred_binary, average='samples', zero_division=0)\n",
    "recall = recall_score(Y_train, Y_pred_binary, average='samples', zero_division=0)\n",
    "f1 = f1_score(Y_train, Y_pred_binary, average='samples', zero_division=0)\n",
    "\n",
    "# Print the metrics\n",
    "print(f\"Precision: {precision:.4f}\")\n",
    "print(f\"Recall: {recall:.4f}\")\n",
    "print(f\"F1-Score: {f1:.4f}\")"
   ]
  },
  {
   "cell_type": "code",
   "execution_count": 10,
   "metadata": {},
   "outputs": [
    {
     "name": "stderr",
     "output_type": "stream",
     "text": [
      "Loading full data: 100%|██████████| 151/151 [00:00<00:00, 357.28file/s]\n"
     ]
    },
    {
     "name": "stdout",
     "output_type": "stream",
     "text": [
      "\u001b[1m1234/1234\u001b[0m \u001b[32m━━━━━━━━━━━━━━━━━━━━\u001b[0m\u001b[37m\u001b[0m \u001b[1m5s\u001b[0m 4ms/step\n",
      "Test Precision: 0.6682\n",
      "Test Recall: 0.2988\n",
      "Test F1-Score: 0.3915\n"
     ]
    }
   ],
   "source": [
    "X_test, Y_test = load_data(\"spectrograms_test\", \"labels_test\")  \n",
    "X_test = np.expand_dims(X_test, axis=-1)  \n",
    "\n",
    "Y_pred_test = model.predict(X_test)\n",
    "Y_pred_test_binary = (Y_pred_test > 0.5).astype(int)\n",
    "\n",
    "# Calculate metrics\n",
    "from sklearn.metrics import precision_score, recall_score, f1_score\n",
    "\n",
    "precision_test = precision_score(Y_test, Y_pred_test_binary, average='samples', zero_division=0)\n",
    "recall_test = recall_score(Y_test, Y_pred_test_binary, average='samples', zero_division=0)\n",
    "f1_test = f1_score(Y_test, Y_pred_test_binary, average='samples', zero_division=0)\n",
    "\n",
    "print(f\"Test Precision: {precision_test:.4f}\")\n",
    "print(f\"Test Recall: {recall_test:.4f}\")\n",
    "print(f\"Test F1-Score: {f1_test:.4f}\")\n"
   ]
  }
 ],
 "metadata": {
  "kernelspec": {
   "display_name": "my_venv",
   "language": "python",
   "name": "python3"
  },
  "language_info": {
   "codemirror_mode": {
    "name": "ipython",
    "version": 3
   },
   "file_extension": ".py",
   "mimetype": "text/x-python",
   "name": "python",
   "nbconvert_exporter": "python",
   "pygments_lexer": "ipython3",
   "version": "3.10.16"
  }
 },
 "nbformat": 4,
 "nbformat_minor": 2
}
